{
 "cells": [
  {
   "cell_type": "code",
   "execution_count": 1,
   "metadata": {},
   "outputs": [],
   "source": [
    "import os\n",
    "import torch\n",
    "\n",
    "from src.get_datanames import get_filenames"
   ]
  },
  {
   "cell_type": "code",
   "execution_count": 2,
   "metadata": {},
   "outputs": [],
   "source": [
    "token_dir = \"prepared_objects_first_4_levels\"\n",
    "model_ids = get_filenames(root_folder=token_dir)  # Liste aller IDs"
   ]
  },
  {
   "cell_type": "code",
   "execution_count": 4,
   "metadata": {},
   "outputs": [
    {
     "data": {
      "text/plain": [
       "['1Story__base_000_000_000__checkpoints__final',\n",
       " '1Story__compound_090_000_090__checkpoints__final',\n",
       " '1Story__x_180_000_000__checkpoints__final',\n",
       " '1Story__y_000_180_000__checkpoints__final',\n",
       " '1Story__z_000_000_120__checkpoints__final',\n",
       " '1Story__z_000_000_240__checkpoints__final',\n",
       " 'Apple-visemes__base_000_000_000__checkpoints__final',\n",
       " 'Apple-visemes__compound_090_000_090__checkpoints__final',\n",
       " 'Apple-visemes__x_180_000_000__checkpoints__final',\n",
       " 'Apple-visemes__y_000_180_000__checkpoints__final',\n",
       " 'Apple-visemes__z_000_000_120__checkpoints__final',\n",
       " 'Apple-visemes__z_000_000_240__checkpoints__final',\n",
       " 'Bed Single S__base_000_000_000__checkpoints__final',\n",
       " 'Bed Single S__compound_090_000_090__checkpoints__final',\n",
       " 'Bed Single S__x_180_000_000__checkpoints__final',\n",
       " 'Bed Single S__y_000_180_000__checkpoints__final',\n",
       " 'Bed Single S__z_000_000_120__checkpoints__final',\n",
       " 'Bed Single S__z_000_000_240__checkpoints__final',\n",
       " 'CarrotKhanStatue__base_000_000_000__checkpoints__final',\n",
       " 'CarrotKhanStatue__compound_090_000_090__checkpoints__final',\n",
       " 'CarrotKhanStatue__x_180_000_000__checkpoints__final',\n",
       " 'CarrotKhanStatue__y_000_180_000__checkpoints__final',\n",
       " 'CarrotKhanStatue__z_000_000_120__checkpoints__final',\n",
       " 'CarrotKhanStatue__z_000_000_240__checkpoints__final',\n",
       " 'GoldBag__base_000_000_000__checkpoints__final',\n",
       " 'GoldBag__compound_090_000_090__checkpoints__final',\n",
       " 'GoldBag__x_180_000_000__checkpoints__final',\n",
       " 'GoldBag__y_000_180_000__checkpoints__final',\n",
       " 'GoldBag__z_000_000_120__checkpoints__final',\n",
       " 'GoldBag__z_000_000_240__checkpoints__final',\n",
       " 'MainCharacterTPOSE__base_000_000_000__checkpoints__final',\n",
       " 'MainCharacterTPOSE__compound_090_000_090__checkpoints__final',\n",
       " 'MainCharacterTPOSE__x_180_000_000__checkpoints__final',\n",
       " 'MainCharacterTPOSE__y_000_180_000__checkpoints__final',\n",
       " 'MainCharacterTPOSE__z_000_000_120__checkpoints__final',\n",
       " 'MainCharacterTPOSE__z_000_000_240__checkpoints__final',\n",
       " 'asteroid6__base_000_000_000__checkpoints__final',\n",
       " 'asteroid6__compound_090_000_090__checkpoints__final',\n",
       " 'asteroid6__x_180_000_000__checkpoints__final',\n",
       " 'asteroid6__y_000_180_000__checkpoints__final',\n",
       " 'asteroid6__z_000_000_120__checkpoints__final',\n",
       " 'asteroid6__z_000_000_240__checkpoints__final',\n",
       " 'block_purple__base_000_000_000__checkpoints__final',\n",
       " 'block_purple__compound_090_000_090__checkpoints__final',\n",
       " 'block_purple__x_180_000_000__checkpoints__final',\n",
       " 'block_purple__y_000_180_000__checkpoints__final',\n",
       " 'block_purple__z_000_000_120__checkpoints__final',\n",
       " 'block_purple__z_000_000_240__checkpoints__final']"
      ]
     },
     "execution_count": 4,
     "metadata": {},
     "output_type": "execute_result"
    }
   ],
   "source": [
    "model_ids"
   ]
  },
  {
   "cell_type": "code",
   "execution_count": 4,
   "metadata": {},
   "outputs": [
    {
     "name": "stderr",
     "output_type": "stream",
     "text": [
      "/tmp/ipykernel_25616/3247068785.py:8: FutureWarning: You are using `torch.load` with `weights_only=False` (the current default value), which uses the default pickle module implicitly. It is possible to construct malicious pickle data which will execute arbitrary code during unpickling (See https://github.com/pytorch/pytorch/blob/main/SECURITY.md#untrusted-models for more details). In a future release, the default value for `weights_only` will be flipped to `True`. This limits the functions that could be executed during unpickling. Arbitrary objects will no longer be allowed to be loaded via this mode unless they are explicitly allowlisted by the user via `torch.serialization.add_safe_globals`. We recommend you start setting `weights_only=True` for any use case where you don't have full control of the loaded file. Please open an issue on GitHub for any issues related to this experimental feature.\n",
      "  tokens = torch.load(tpath).float()       # [N_i, 2]\n",
      "/tmp/ipykernel_25616/3247068785.py:9: FutureWarning: You are using `torch.load` with `weights_only=False` (the current default value), which uses the default pickle module implicitly. It is possible to construct malicious pickle data which will execute arbitrary code during unpickling (See https://github.com/pytorch/pytorch/blob/main/SECURITY.md#untrusted-models for more details). In a future release, the default value for `weights_only` will be flipped to `True`. This limits the functions that could be executed during unpickling. Arbitrary objects will no longer be allowed to be loaded via this mode unless they are explicitly allowlisted by the user via `torch.serialization.add_safe_globals`. We recommend you start setting `weights_only=True` for any use case where you don't have full control of the loaded file. Please open an issue on GitHub for any issues related to this experimental feature.\n",
      "  positions = torch.load(ppath).float()    # [N_i, 3]\n"
     ]
    },
    {
     "name": "stdout",
     "output_type": "stream",
     "text": [
      "Model-IDs mit ungültigen Token-Werten (NaN/Inf):\n",
      "\n",
      "Model-IDs mit ungültigen Positions-Werten (NaN/Inf):\n"
     ]
    }
   ],
   "source": [
    "invalid_tokens = []\n",
    "invalid_positions = []\n",
    "\n",
    "for mid in model_ids:\n",
    "    tpath = os.path.join(token_dir, f\"{mid}_tokens.pt\")\n",
    "    ppath = os.path.join(token_dir, f\"{mid}_positions.pt\")\n",
    "    \n",
    "    tokens = torch.load(tpath).float()       # [N_i, 2]\n",
    "    positions = torch.load(ppath).float()    # [N_i, 3]\n",
    "    \n",
    "    # Prüfen, ob der Token-Tensor NaN oder Inf enthält\n",
    "    if torch.isnan(tokens).any() or torch.isinf(tokens).any():\n",
    "        invalid_tokens.append(mid)\n",
    "    \n",
    "    # Prüfen, ob der Positions-Tensor NaN oder Inf enthält\n",
    "    if torch.isnan(positions).any() or torch.isinf(positions).any():\n",
    "        invalid_positions.append(mid)\n",
    "\n",
    "# Ausgabe\n",
    "print(\"Model-IDs mit ungültigen Token-Werten (NaN/Inf):\")\n",
    "for mid in invalid_tokens:\n",
    "    print(\"  \", mid)\n",
    "\n",
    "print(\"\\nModel-IDs mit ungültigen Positions-Werten (NaN/Inf):\")\n",
    "for mid in invalid_positions:\n",
    "    print(\"  \", mid)\n"
   ]
  },
  {
   "cell_type": "code",
   "execution_count": 5,
   "metadata": {},
   "outputs": [
    {
     "name": "stderr",
     "output_type": "stream",
     "text": [
      "/tmp/ipykernel_25616/2593331568.py:11: FutureWarning: You are using `torch.load` with `weights_only=False` (the current default value), which uses the default pickle module implicitly. It is possible to construct malicious pickle data which will execute arbitrary code during unpickling (See https://github.com/pytorch/pytorch/blob/main/SECURITY.md#untrusted-models for more details). In a future release, the default value for `weights_only` will be flipped to `True`. This limits the functions that could be executed during unpickling. Arbitrary objects will no longer be allowed to be loaded via this mode unless they are explicitly allowlisted by the user via `torch.serialization.add_safe_globals`. We recommend you start setting `weights_only=True` for any use case where you don't have full control of the loaded file. Please open an issue on GitHub for any issues related to this experimental feature.\n",
      "  tokens = torch.load(tpath).float()\n"
     ]
    },
    {
     "ename": "FileNotFoundError",
     "evalue": "[Errno 2] No such file or directory: 'prepared_objects_first_4_levels/ATV-Truck-1__compound_090_000_090__checkpoints__final_tokens.pt'",
     "output_type": "error",
     "traceback": [
      "\u001b[31m---------------------------------------------------------------------------\u001b[39m",
      "\u001b[31mFileNotFoundError\u001b[39m                         Traceback (most recent call last)",
      "\u001b[36mCell\u001b[39m\u001b[36m \u001b[39m\u001b[32mIn[5]\u001b[39m\u001b[32m, line 11\u001b[39m\n\u001b[32m      9\u001b[39m tpath = os.path.join(token_dir, \u001b[33mf\u001b[39m\u001b[33m\"\u001b[39m\u001b[38;5;132;01m{\u001b[39;00mmid\u001b[38;5;132;01m}\u001b[39;00m\u001b[33m_tokens.pt\u001b[39m\u001b[33m\"\u001b[39m)\n\u001b[32m     10\u001b[39m ppath = os.path.join(token_dir, \u001b[33mf\u001b[39m\u001b[33m\"\u001b[39m\u001b[38;5;132;01m{\u001b[39;00mmid\u001b[38;5;132;01m}\u001b[39;00m\u001b[33m_positions.pt\u001b[39m\u001b[33m\"\u001b[39m)\n\u001b[32m---> \u001b[39m\u001b[32m11\u001b[39m tokens = \u001b[43mtorch\u001b[49m\u001b[43m.\u001b[49m\u001b[43mload\u001b[49m\u001b[43m(\u001b[49m\u001b[43mtpath\u001b[49m\u001b[43m)\u001b[49m.float()\n\u001b[32m     12\u001b[39m positions = torch.load(ppath).float()\n\u001b[32m     14\u001b[39m \u001b[38;5;66;03m# Prüfen auf NaN/Inf in Tokens\u001b[39;00m\n",
      "\u001b[36mFile \u001b[39m\u001b[32m~/miniconda3/envs/htcv_env/lib/python3.11/site-packages/torch/serialization.py:1319\u001b[39m, in \u001b[36mload\u001b[39m\u001b[34m(f, map_location, pickle_module, weights_only, mmap, **pickle_load_args)\u001b[39m\n\u001b[32m   1316\u001b[39m \u001b[38;5;28;01mif\u001b[39;00m \u001b[33m\"\u001b[39m\u001b[33mencoding\u001b[39m\u001b[33m\"\u001b[39m \u001b[38;5;129;01mnot\u001b[39;00m \u001b[38;5;129;01min\u001b[39;00m pickle_load_args.keys():\n\u001b[32m   1317\u001b[39m     pickle_load_args[\u001b[33m\"\u001b[39m\u001b[33mencoding\u001b[39m\u001b[33m\"\u001b[39m] = \u001b[33m\"\u001b[39m\u001b[33mutf-8\u001b[39m\u001b[33m\"\u001b[39m\n\u001b[32m-> \u001b[39m\u001b[32m1319\u001b[39m \u001b[38;5;28;01mwith\u001b[39;00m \u001b[43m_open_file_like\u001b[49m\u001b[43m(\u001b[49m\u001b[43mf\u001b[49m\u001b[43m,\u001b[49m\u001b[43m \u001b[49m\u001b[33;43m\"\u001b[39;49m\u001b[33;43mrb\u001b[39;49m\u001b[33;43m\"\u001b[39;49m\u001b[43m)\u001b[49m \u001b[38;5;28;01mas\u001b[39;00m opened_file:\n\u001b[32m   1320\u001b[39m     \u001b[38;5;28;01mif\u001b[39;00m _is_zipfile(opened_file):\n\u001b[32m   1321\u001b[39m         \u001b[38;5;66;03m# The zipfile reader is going to advance the current file position.\u001b[39;00m\n\u001b[32m   1322\u001b[39m         \u001b[38;5;66;03m# If we want to actually tail call to torch.jit.load, we need to\u001b[39;00m\n\u001b[32m   1323\u001b[39m         \u001b[38;5;66;03m# reset back to the original position.\u001b[39;00m\n\u001b[32m   1324\u001b[39m         orig_position = opened_file.tell()\n",
      "\u001b[36mFile \u001b[39m\u001b[32m~/miniconda3/envs/htcv_env/lib/python3.11/site-packages/torch/serialization.py:659\u001b[39m, in \u001b[36m_open_file_like\u001b[39m\u001b[34m(name_or_buffer, mode)\u001b[39m\n\u001b[32m    657\u001b[39m \u001b[38;5;28;01mdef\u001b[39;00m\u001b[38;5;250m \u001b[39m\u001b[34m_open_file_like\u001b[39m(name_or_buffer, mode):\n\u001b[32m    658\u001b[39m     \u001b[38;5;28;01mif\u001b[39;00m _is_path(name_or_buffer):\n\u001b[32m--> \u001b[39m\u001b[32m659\u001b[39m         \u001b[38;5;28;01mreturn\u001b[39;00m \u001b[43m_open_file\u001b[49m\u001b[43m(\u001b[49m\u001b[43mname_or_buffer\u001b[49m\u001b[43m,\u001b[49m\u001b[43m \u001b[49m\u001b[43mmode\u001b[49m\u001b[43m)\u001b[49m\n\u001b[32m    660\u001b[39m     \u001b[38;5;28;01melse\u001b[39;00m:\n\u001b[32m    661\u001b[39m         \u001b[38;5;28;01mif\u001b[39;00m \u001b[33m\"\u001b[39m\u001b[33mw\u001b[39m\u001b[33m\"\u001b[39m \u001b[38;5;129;01min\u001b[39;00m mode:\n",
      "\u001b[36mFile \u001b[39m\u001b[32m~/miniconda3/envs/htcv_env/lib/python3.11/site-packages/torch/serialization.py:640\u001b[39m, in \u001b[36m_open_file.__init__\u001b[39m\u001b[34m(self, name, mode)\u001b[39m\n\u001b[32m    639\u001b[39m \u001b[38;5;28;01mdef\u001b[39;00m\u001b[38;5;250m \u001b[39m\u001b[34m__init__\u001b[39m(\u001b[38;5;28mself\u001b[39m, name, mode):\n\u001b[32m--> \u001b[39m\u001b[32m640\u001b[39m     \u001b[38;5;28msuper\u001b[39m().\u001b[34m__init__\u001b[39m(\u001b[38;5;28mopen\u001b[39m(name, mode))\n",
      "\u001b[31mFileNotFoundError\u001b[39m: [Errno 2] No such file or directory: 'prepared_objects_first_4_levels/ATV-Truck-1__compound_090_000_090__checkpoints__final_tokens.pt'"
     ]
    }
   ],
   "source": [
    "import os\n",
    "import torch\n",
    "\n",
    "# Pfad und Modell-ID festlegen\n",
    "token_dir = \"prepared_objects_first_4_levels\"\n",
    "mid = \"ATV-Truck-1__compound_090_000_090__checkpoints__final\"\n",
    "\n",
    "# Lade Token- und Positionsdaten\n",
    "tpath = os.path.join(token_dir, f\"{mid}_tokens.pt\")\n",
    "ppath = os.path.join(token_dir, f\"{mid}_positions.pt\")\n",
    "tokens = torch.load(tpath).float()\n",
    "positions = torch.load(ppath).float()\n",
    "\n",
    "# Prüfen auf NaN/Inf in Tokens\n",
    "nan_mask_tokens = torch.isnan(tokens)\n",
    "inf_mask_tokens = torch.isinf(tokens)\n",
    "nan_count_tokens = nan_mask_tokens.sum().item()\n",
    "inf_count_tokens = inf_mask_tokens.sum().item()\n",
    "\n",
    "# Prüfen auf NaN/Inf in Positions\n",
    "nan_mask_positions = torch.isnan(positions)\n",
    "inf_mask_positions = torch.isinf(positions)\n",
    "nan_count_positions = nan_mask_positions.sum().item()\n",
    "inf_count_positions = inf_mask_positions.sum().item()\n",
    "\n",
    "# Sammle Indizes der betroffenen Zeilen\n",
    "nan_indices_tokens = torch.nonzero(nan_mask_tokens, as_tuple=False)\n",
    "inf_indices_tokens = torch.nonzero(inf_mask_tokens, as_tuple=False)\n",
    "nan_indices_positions = torch.nonzero(nan_mask_positions, as_tuple=False)\n",
    "inf_indices_positions = torch.nonzero(inf_mask_positions, as_tuple=False)\n",
    "\n",
    "# Ausgabe der Ergebnisse\n",
    "print(f\"Modell: {mid}\")\n",
    "print(f\"\\n--- Tokens ---\")\n",
    "print(f\"Shape: {tokens.shape}\")\n",
    "print(f\"Anzahl NaN-Werte: {nan_count_tokens}\")\n",
    "print(f\"Anzahl Inf-Werte: {inf_count_tokens}\")\n",
    "if nan_count_tokens > 0:\n",
    "    print(f\"Erste 5 NaN-Positionen (Index, Feature):\")\n",
    "    print(nan_indices_tokens[:5])\n",
    "if inf_count_tokens > 0:\n",
    "    print(f\"Erste 5 Inf-Positionen (Index, Feature):\")\n",
    "    print(inf_indices_tokens[:5])\n",
    "\n",
    "print(f\"\\n--- Positions ---\")\n",
    "print(f\"Shape: {positions.shape}\")\n",
    "print(f\"Anzahl NaN-Werte: {nan_count_positions}\")\n",
    "print(f\"Anzahl Inf-Werte: {inf_count_positions}\")\n",
    "if nan_count_positions > 0:\n",
    "    print(f\"Erste 5 NaN-Positionen (Zeile, Spalte):\")\n",
    "    print(nan_indices_positions[:5])\n",
    "if inf_count_positions > 0:\n",
    "    print(f\"Erste 5 Inf-Positionen (Zeile, Spalte):\")\n",
    "    print(inf_indices_positions[:5])\n",
    "\n",
    "# Zeige beispielhafte betroffene Zeilen (max. 5) zur näheren Inspektion\n",
    "if nan_count_tokens > 0 or inf_count_tokens > 0:\n",
    "    affected_rows_tokens = torch.unique(nan_indices_tokens[:, 0]) if nan_count_tokens > 0 else torch.unique(inf_indices_tokens[:, 0])\n",
    "    print(f\"\\nEinige Zeilen mit ungültigen Token-Werten (bis zu 5):\")\n",
    "    for idx in affected_rows_tokens[:5]:\n",
    "        print(f\"Index {idx.item()}: {tokens[idx].tolist()}\")\n",
    "\n",
    "if nan_count_positions > 0 or inf_count_positions > 0:\n",
    "    affected_rows_positions = torch.unique(nan_indices_positions[:, 0]) if nan_count_positions > 0 else torch.unique(inf_indices_positions[:, 0])\n",
    "    print(f\"\\nEinige Zeilen mit ungültigen Positions-Werten (bis zu 5):\")\n",
    "    for idx in affected_rows_positions[:5]:\n",
    "        print(f\"Index {idx.item()}: {positions[idx].tolist()}\")\n"
   ]
  }
 ],
 "metadata": {
  "kernelspec": {
   "display_name": "htcv_env",
   "language": "python",
   "name": "python3"
  },
  "language_info": {
   "codemirror_mode": {
    "name": "ipython",
    "version": 3
   },
   "file_extension": ".py",
   "mimetype": "text/x-python",
   "name": "python",
   "nbconvert_exporter": "python",
   "pygments_lexer": "ipython3",
   "version": "3.11.10"
  }
 },
 "nbformat": 4,
 "nbformat_minor": 2
}
