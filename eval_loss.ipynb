{
 "cells": [
  {
   "cell_type": "code",
   "execution_count": 4,
   "metadata": {},
   "outputs": [],
   "source": [
    "import os\n",
    "import torch\n",
    "from torch.utils.data import DataLoader\n",
    "import torch.nn.functional as F\n",
    "\n",
    "from src.transformer import SANETokenAutoencoderWithRotation\n",
    "from src.dataloader import SimpleTokenDataset"
   ]
  },
  {
   "cell_type": "code",
   "execution_count": 5,
   "metadata": {},
   "outputs": [
    {
     "name": "stdout",
     "output_type": "stream",
     "text": [
      "Checkpoint geladen und Modell im Eval‐Modus.\n"
     ]
    },
    {
     "name": "stderr",
     "output_type": "stream",
     "text": [
      "/tmp/ipykernel_38091/491768996.py:21: FutureWarning: You are using `torch.load` with `weights_only=False` (the current default value), which uses the default pickle module implicitly. It is possible to construct malicious pickle data which will execute arbitrary code during unpickling (See https://github.com/pytorch/pytorch/blob/main/SECURITY.md#untrusted-models for more details). In a future release, the default value for `weights_only` will be flipped to `True`. This limits the functions that could be executed during unpickling. Arbitrary objects will no longer be allowed to be loaded via this mode unless they are explicitly allowlisted by the user via `torch.serialization.add_safe_globals`. We recommend you start setting `weights_only=True` for any use case where you don't have full control of the loaded file. Please open an issue on GitHub for any issues related to this experimental feature.\n",
      "  model.load_state_dict(torch.load(checkpoint_path, map_location=device))\n",
      "/home/roman/Instant-NGP-Sane/src/dataloader.py:85: FutureWarning: You are using `torch.load` with `weights_only=False` (the current default value), which uses the default pickle module implicitly. It is possible to construct malicious pickle data which will execute arbitrary code during unpickling (See https://github.com/pytorch/pytorch/blob/main/SECURITY.md#untrusted-models for more details). In a future release, the default value for `weights_only` will be flipped to `True`. This limits the functions that could be executed during unpickling. Arbitrary objects will no longer be allowed to be loaded via this mode unless they are explicitly allowlisted by the user via `torch.serialization.add_safe_globals`. We recommend you start setting `weights_only=True` for any use case where you don't have full control of the loaded file. Please open an issue on GitHub for any issues related to this experimental feature.\n",
      "  tokens = torch.load(tpath).float()        # [N_i, 2]\n",
      "/home/roman/Instant-NGP-Sane/src/dataloader.py:86: FutureWarning: You are using `torch.load` with `weights_only=False` (the current default value), which uses the default pickle module implicitly. It is possible to construct malicious pickle data which will execute arbitrary code during unpickling (See https://github.com/pytorch/pytorch/blob/main/SECURITY.md#untrusted-models for more details). In a future release, the default value for `weights_only` will be flipped to `True`. This limits the functions that could be executed during unpickling. Arbitrary objects will no longer be allowed to be loaded via this mode unless they are explicitly allowlisted by the user via `torch.serialization.add_safe_globals`. We recommend you start setting `weights_only=True` for any use case where you don't have full control of the loaded file. Please open an issue on GitHub for any issues related to this experimental feature.\n",
      "  positions_raw = torch.load(ppath).float() # [N_i, 3]\n"
     ]
    },
    {
     "name": "stdout",
     "output_type": "stream",
     "text": [
      "Rotation‐Accuracy: 99.96%\n"
     ]
    }
   ],
   "source": [
    "# 2) Pfad zum gespeicherten Checkpoint\n",
    "checkpoint_path = \"checkpoints/sane_asteroid6_with_rotation_final.pt\"\n",
    "if not os.path.isfile(checkpoint_path):\n",
    "    raise FileNotFoundError(f\"Checkpoint {checkpoint_path} nicht gefunden.\")\n",
    "\n",
    "# 3) Modell-Instanz mit exakt denselben Hyperparametern\n",
    "model = SANETokenAutoencoderWithRotation(\n",
    "    token_dim=2,\n",
    "    d_model=64,\n",
    "    nhead=4,\n",
    "    num_layers=2,\n",
    "    dim_feedforward=256,\n",
    "    dropout=0.1,\n",
    "    level_embed_dim=16,\n",
    "    num_rot_classes=6,\n",
    "    rot_hidden=32\n",
    ")\n",
    "\n",
    "# 4) Gewichte laden\n",
    "device = torch.device(\"cuda\" if torch.cuda.is_available() else \"cpu\")\n",
    "model.load_state_dict(torch.load(checkpoint_path, map_location=device))\n",
    "model.to(device)\n",
    "model.eval()\n",
    "print(\"Checkpoint geladen und Modell im Eval‐Modus.\")\n",
    "\n",
    "# 5) Datensatz & DataLoader für Evaluation erstellen\n",
    "#    (Hier musst du wieder SimpleTokenDataset so instanziieren,\n",
    "#     dass es dieselben 6 asteroid6-Dateien findet, die du zum Training verwendet hast.)\n",
    "token_dir = \"prepared_objects_first_4_levels\"\n",
    "model_ids = [\n",
    "    \"asteroid6__base_000_000_000__checkpoints__final\",\n",
    "    \"asteroid6__compound_090_000_090__checkpoints__final\",\n",
    "    \"asteroid6__x_180_000_000__checkpoints__final\",\n",
    "    \"asteroid6__y_000_180_000__checkpoints__final\",\n",
    "    \"asteroid6__z_000_000_120__checkpoints__final\",\n",
    "    \"asteroid6__z_000_000_240__checkpoints__final\"\n",
    "]\n",
    "dataset = SimpleTokenDataset(\n",
    "    token_dir=token_dir,\n",
    "    model_ids=model_ids,\n",
    "    window_size=256,\n",
    "    augment=False  # Beim Evaluieren brauchen wir keine Augmentation\n",
    ")\n",
    "dataloader = DataLoader(\n",
    "    dataset,\n",
    "    batch_size=8,\n",
    "    shuffle=False,\n",
    "    num_workers=4,\n",
    "    pin_memory=True\n",
    ")\n",
    "\n",
    "# 6) Kurze Evaluations‐Schleife (hier z. B. nur Accuracy auf Rotation‐Head)\n",
    "correct = 0\n",
    "total = 0\n",
    "with torch.no_grad():\n",
    "    for batch in dataloader:\n",
    "        tokens   = batch[\"tokens\"].to(device)\n",
    "        abs_norm = batch[\"abs_norm\"].to(device)\n",
    "        p_norm   = batch[\"p_norm\"].to(device)\n",
    "        levels   = batch[\"levels\"].to(device)\n",
    "        labels   = batch[\"label_rot\"].to(device)\n",
    "\n",
    "        # Vorwärts‐Pass: wir interessieren uns nur für den Rotations‐Logits‐Ausgang\n",
    "        _, logits_rot = model(tokens, abs_norm, p_norm, levels)  # [B, 6]\n",
    "        preds = logits_rot.argmax(dim=1)                         # [B]\n",
    "        correct += (preds == labels).sum().item()\n",
    "        total += labels.size(0)\n",
    "\n",
    "print(f\"Rotation‐Accuracy: {100 * correct / total:.2f}%\")\n"
   ]
  }
 ],
 "metadata": {
  "kernelspec": {
   "display_name": "htcv_env",
   "language": "python",
   "name": "python3"
  },
  "language_info": {
   "codemirror_mode": {
    "name": "ipython",
    "version": 3
   },
   "file_extension": ".py",
   "mimetype": "text/x-python",
   "name": "python",
   "nbconvert_exporter": "python",
   "pygments_lexer": "ipython3",
   "version": "3.11.10"
  }
 },
 "nbformat": 4,
 "nbformat_minor": 2
}
