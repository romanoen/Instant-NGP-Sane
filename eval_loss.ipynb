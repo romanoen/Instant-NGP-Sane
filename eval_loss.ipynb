{
 "cells": [
  {
   "cell_type": "code",
   "execution_count": 12,
   "metadata": {},
   "outputs": [],
   "source": [
    "import os\n",
    "import torch\n",
    "import numpy as np\n",
    "from torch.utils.data import DataLoader\n",
    "import pandas as pd\n",
    "from tqdm import tqdm\n",
    "\n",
    "import sys\n",
    "sys.path.append('.')\n",
    "\n",
    "from src.dataloader import SimpleTokenDataset\n",
    "from src.transformer   import SANETokenAutoencoderWithRotation \n",
    "\n",
    "device = torch.device(\"cuda\" if torch.cuda.is_available() else \"cpu\")\n",
    "\n",
    "os.environ[\"PYTORCH_ENABLE_FLASH_ATTN\"] = \"0\"\n",
    "torch.backends.cudnn.deterministic = True\n",
    "torch.backends.cudnn.benchmark     = False\n"
   ]
  },
  {
   "cell_type": "code",
   "execution_count": 13,
   "metadata": {},
   "outputs": [
    {
     "name": "stderr",
     "output_type": "stream",
     "text": [
      "/tmp/ipykernel_201586/15741980.py:17: FutureWarning: You are using `torch.load` with `weights_only=False` (the current default value), which uses the default pickle module implicitly. It is possible to construct malicious pickle data which will execute arbitrary code during unpickling (See https://github.com/pytorch/pytorch/blob/main/SECURITY.md#untrusted-models for more details). In a future release, the default value for `weights_only` will be flipped to `True`. This limits the functions that could be executed during unpickling. Arbitrary objects will no longer be allowed to be loaded via this mode unless they are explicitly allowlisted by the user via `torch.serialization.add_safe_globals`. We recommend you start setting `weights_only=True` for any use case where you don't have full control of the loaded file. Please open an issue on GitHub for any issues related to this experimental feature.\n",
      "  state_dict = torch.load(checkpoint_path, map_location=device)\n"
     ]
    },
    {
     "data": {
      "text/plain": [
       "SANETokenAutoencoderWithRotation(\n",
       "  (token_embed): Linear(in_features=2, out_features=64, bias=True)\n",
       "  (level_emb): Embedding(5, 16)\n",
       "  (pos_proj): Linear(in_features=18, out_features=64, bias=True)\n",
       "  (encoder_blocks): ModuleList(\n",
       "    (0-1): 2 x TransformerBlock(\n",
       "      (attn): MultiheadAttention(\n",
       "        (out_proj): NonDynamicallyQuantizableLinear(in_features=64, out_features=64, bias=True)\n",
       "      )\n",
       "      (ln1): LayerNorm((64,), eps=1e-05, elementwise_affine=True)\n",
       "      (ff): Sequential(\n",
       "        (0): Linear(in_features=64, out_features=256, bias=True)\n",
       "        (1): GELU(approximate='none')\n",
       "        (2): Dropout(p=0.1, inplace=False)\n",
       "        (3): Linear(in_features=256, out_features=64, bias=True)\n",
       "      )\n",
       "      (ln2): LayerNorm((64,), eps=1e-05, elementwise_affine=True)\n",
       "      (dropout): Dropout(p=0.1, inplace=False)\n",
       "    )\n",
       "  )\n",
       "  (decoder): Sequential(\n",
       "    (0): Linear(in_features=64, out_features=256, bias=True)\n",
       "    (1): GELU(approximate='none')\n",
       "    (2): Linear(in_features=256, out_features=2, bias=True)\n",
       "  )\n",
       "  (rotation_head): Sequential(\n",
       "    (0): Linear(in_features=64, out_features=32, bias=True)\n",
       "    (1): ReLU()\n",
       "    (2): Linear(in_features=32, out_features=6, bias=True)\n",
       "  )\n",
       ")"
      ]
     },
     "execution_count": 13,
     "metadata": {},
     "output_type": "execute_result"
    }
   ],
   "source": [
    "checkpoint_path = \"checkpoints/9ObjectsModel.pt\"\n",
    "if not os.path.isfile(checkpoint_path):\n",
    "    raise FileNotFoundError(f\"Checkpoint '{checkpoint_path}' nicht gefunden.\")\n",
    "\n",
    "model = SANETokenAutoencoderWithRotation(\n",
    "    token_dim=2,\n",
    "    d_model=64,\n",
    "    nhead=4,\n",
    "    num_layers=2,\n",
    "    dim_feedforward=256,\n",
    "    dropout=0.1,\n",
    "    level_embed_dim=16,\n",
    "    num_rot_classes=6, \n",
    "    rot_hidden=32\n",
    ").to(device)\n",
    "\n",
    "state_dict = torch.load(checkpoint_path, map_location=device)\n",
    "model.load_state_dict(state_dict)\n",
    "model.eval()\n"
   ]
  },
  {
   "cell_type": "code",
   "execution_count": 14,
   "metadata": {},
   "outputs": [],
   "source": [
    "import torch\n",
    "\n",
    "def compute_latent_from_batch(model, tokens, abs_norm, p_norm, levels):\n",
    "    \"\"\"\n",
    "    Führt den reinen ENCODER‐Teil von SANETokenAutoencoderWithRotation aus und gibt\n",
    "    den 64-dimensionalen Latent-Vektor zurück (mean pooling über W).\n",
    "\n",
    "    Inputs (alle bereits auf `device` verschoben):\n",
    "      tokens:   FloatTensor [B, W, 2]\n",
    "      abs_norm: FloatTensor [B, W, 1]\n",
    "      p_norm:   FloatTensor [B, W, 1]\n",
    "      levels:   LongTensor  [B, W]\n",
    "\n",
    "    Output:\n",
    "      z:        FloatTensor [B, 64]  (mean über W)\n",
    "    \"\"\"\n",
    "    # 1) Token‐Embedding\n",
    "    tok_emb = model.token_embed(tokens)   # [B, W, 64]\n",
    "\n",
    "    # 2) Positional‐Embedding\n",
    "    lvl_emb = model.level_emb(levels)     # [B, W, 16]\n",
    "    pos_cat = torch.cat([abs_norm, p_norm, lvl_emb], dim=-1)  # [B, W, 18]\n",
    "    pos_emb = model.pos_proj(pos_cat)     # [B, W, 64]\n",
    "\n",
    "    # 3) Summe aus Token + Position\n",
    "    x = tok_emb + pos_emb                 # [B, W, 64]\n",
    "\n",
    "    # 4) Transformer‐Encoder‐Schichten\n",
    "    for blk in model.encoder_blocks:\n",
    "        x = blk(x)                        # [B, W, 64]\n",
    "\n",
    "    # 5) Mean‐Pooling über W\n",
    "    z = x.mean(dim=1)                     # [B, 64]\n",
    "    return z\n"
   ]
  },
  {
   "cell_type": "code",
   "execution_count": 20,
   "metadata": {},
   "outputs": [
    {
     "name": "stdout",
     "output_type": "stream",
     "text": [
      "Anzahl Fenster für music_speaker__z_000_000_240__checkpoints__final: 125313\n"
     ]
    }
   ],
   "source": [
    "single_model_id = \"MainCharacterTPOSE__base_000_000_000__checkpoints__final\"\n",
    "\n",
    "# Wir initialisieren ein Dataset, das nur genau diese eine model_id lädt\n",
    "dataset_obj = SimpleTokenDataset(\n",
    "    token_dir=\"prepared_objects_first_4_levels\",  # Pfad anpassen\n",
    "    model_ids=[single_model_id],\n",
    "    window_size=256,\n",
    "    augment=False\n",
    ")\n",
    "\n",
    "loader_obj = DataLoader(\n",
    "    dataset_obj,\n",
    "    batch_size=8,\n",
    "    shuffle=False, \n",
    "    num_workers=4,\n",
    "    pin_memory=True\n",
    ")\n",
    "\n",
    "print(f\"Anzahl Fenster für {single_model_id}: {len(dataset_obj)}\")\n"
   ]
  },
  {
   "cell_type": "code",
   "execution_count": 21,
   "metadata": {},
   "outputs": [
    {
     "name": "stderr",
     "output_type": "stream",
     "text": [
      "Latents sammeln für music_speaker__z_000_000_240__checkpoints__final: 100%|██████████| 15665/15665 [00:52<00:00, 299.01Batch/s]\n"
     ]
    },
    {
     "name": "stdout",
     "output_type": "stream",
     "text": [
      "Shape aller Latents: torch.Size([125313, 64])\n"
     ]
    }
   ],
   "source": [
    "all_latents = []\n",
    "\n",
    "with torch.no_grad():\n",
    "    for batch in tqdm(loader_obj, desc=f\"Latents sammeln für {single_model_id}\", unit=\"Batch\"):\n",
    "        tokens   = batch[\"tokens\"].to(device)    # [B, W, 2]\n",
    "        abs_norm = batch[\"abs_norm\"].to(device)  # [B, W, 1]\n",
    "        p_norm   = batch[\"p_norm\"].to(device)    # [B, W, 1]\n",
    "        levels   = batch[\"levels\"].to(device)    # [B, W]\n",
    "\n",
    "        z_batch = compute_latent_from_batch(model, tokens, abs_norm, p_norm, levels)  # [B, 64]\n",
    "        all_latents.append(z_batch.cpu()) \n",
    "\n",
    "# Alle Batch‐Latents zu einem Tensor zusammenfügen: [N_windows, 64]\n",
    "all_latents = torch.cat(all_latents, dim=0)  # FloatTensor, shape = [num_windows, 64]\n",
    "print(f\"Shape aller Latents: {all_latents.shape}\")\n"
   ]
  },
  {
   "cell_type": "code",
   "execution_count": 25,
   "metadata": {},
   "outputs": [
    {
     "data": {
      "text/plain": [
       "(125313, 64)"
      ]
     },
     "execution_count": 25,
     "metadata": {},
     "output_type": "execute_result"
    }
   ],
   "source": [
    "# In NumPy‐Array konvertieren\n",
    "latents_np = all_latents.numpy()  # Shape [num_windows, 64]\n",
    "\n",
    "# DataFrame mit 64 Spalten: latent_0 … latent_63\n",
    "columns = [f\"latent_{i}\" for i in range(latents_np.shape[1])]\n",
    "df_latents = pd.DataFrame(latents_np, columns=columns)\n",
    "\n",
    "# Zeige erste 5 Zeilen\n",
    "df_latents.shape\n"
   ]
  },
  {
   "cell_type": "code",
   "execution_count": 23,
   "metadata": {},
   "outputs": [
    {
     "data": {
      "text/plain": [
       "array([-0.23162867,  1.2482456 ,  0.19822937, -1.9758267 , -2.8409946 ,\n",
       "       -0.37627804,  0.26451525,  0.7105661 , -0.6235712 ,  1.2104625 ,\n",
       "       -0.14439674, -0.99199474,  0.11293446, -0.1376312 ,  1.8751167 ,\n",
       "        0.34313974,  0.9404803 , -0.8048887 , -1.8447216 ,  0.81312925,\n",
       "        2.5209963 , -0.36012328,  0.47635847,  2.8187659 , -0.4012906 ,\n",
       "       -0.20478582,  1.0413792 , -1.9827175 , -2.4068227 ,  0.22127733,\n",
       "        1.6317469 ,  2.0718517 , -1.4016395 , -0.8116531 , -0.17636248,\n",
       "       -0.46374115, -0.40898362,  1.2023895 , -1.0967721 , -0.12835597,\n",
       "        0.04417903, -0.43669647,  1.2313483 , -0.7766703 ,  1.2298833 ,\n",
       "        0.32547882,  0.51655334,  0.23126729,  0.62396985,  0.99789757,\n",
       "       -1.0175884 ,  0.71796644,  1.2664471 , -2.8725252 , -0.4628302 ,\n",
       "        1.5604985 ,  0.99411625,  0.25451323, -1.5814369 ,  0.27120447,\n",
       "        1.5933465 , -2.27768   , -0.6604226 ,  0.4256525 ], dtype=float32)"
      ]
     },
     "execution_count": 23,
     "metadata": {},
     "output_type": "execute_result"
    }
   ],
   "source": [
    "global_latent = df_latents.mean(axis=0)  # Series mit 64 Werten\n",
    "global_latent.values\n"
   ]
  },
  {
   "cell_type": "code",
   "execution_count": 26,
   "metadata": {},
   "outputs": [
    {
     "name": "stdout",
     "output_type": "stream",
     "text": [
      "Vorhergesagte Rotations-Klasse: 2\n"
     ]
    }
   ],
   "source": [
    "# 1) Series → NumPy → Tensor\n",
    "#    global_latent.values liefert ein (64,)-Array\n",
    "z_np = global_latent.values                # shape (64,)\n",
    "z_tensor = torch.from_numpy(z_np).float()  # FloatTensor, shape (64,)\n",
    "\n",
    "# 2) Batch-Dimension hinzufügen: [1, 64]\n",
    "z_batch = z_tensor.unsqueeze(0)            # shape [1, 64]\n",
    "\n",
    "# 3) Auf’s richtige Device schieben\n",
    "z_batch = z_batch.to(device)\n",
    "classifier = model.rotation_head.to(device)\n",
    "\n",
    "# 4) Inferenz\n",
    "with torch.no_grad():\n",
    "    logits = classifier(z_batch)           # [1, num_rot_classes]\n",
    "    pred   = torch.argmax(logits, dim=-1)  # [1]\n",
    "\n",
    "# 5) Ergebnis\n",
    "pred_class = pred.item()\n",
    "print(f\"Vorhergesagte Rotations-Klasse: {pred_class}\")"
   ]
  }
 ],
 "metadata": {
  "kernelspec": {
   "display_name": "htcv_env",
   "language": "python",
   "name": "python3"
  },
  "language_info": {
   "codemirror_mode": {
    "name": "ipython",
    "version": 3
   },
   "file_extension": ".py",
   "mimetype": "text/x-python",
   "name": "python",
   "nbconvert_exporter": "python",
   "pygments_lexer": "ipython3",
   "version": "3.11.10"
  }
 },
 "nbformat": 4,
 "nbformat_minor": 2
}
