{
 "cells": [
  {
   "cell_type": "code",
   "execution_count": 13,
   "metadata": {},
   "outputs": [],
   "source": [
    "import os\n",
    "import torch\n",
    "import numpy as np\n",
    "from torch.utils.data import DataLoader\n",
    "import pandas as pd\n",
    "from tqdm import tqdm\n",
    "\n",
    "import sys\n",
    "sys.path.append('.')\n",
    "\n",
    "from src.dataloader import SimpleTokenDataset\n",
    "from src.transformer   import SANETokenAutoencoderWithRotation \n",
    "\n",
    "device = torch.device(\"cuda\" if torch.cuda.is_available() else \"cpu\")\n",
    "\n",
    "os.environ[\"PYTORCH_ENABLE_FLASH_ATTN\"] = \"0\"\n",
    "torch.backends.cudnn.deterministic = True\n",
    "torch.backends.cudnn.benchmark     = False\n"
   ]
  },
  {
   "cell_type": "code",
   "execution_count": 14,
   "metadata": {},
   "outputs": [
    {
     "name": "stdout",
     "output_type": "stream",
     "text": [
      "Modell und Checkpoint geladen. Encoder+Decoder im Eval-Modus.\n"
     ]
    },
    {
     "name": "stderr",
     "output_type": "stream",
     "text": [
      "/tmp/ipykernel_5894/934180521.py:20: FutureWarning: You are using `torch.load` with `weights_only=False` (the current default value), which uses the default pickle module implicitly. It is possible to construct malicious pickle data which will execute arbitrary code during unpickling (See https://github.com/pytorch/pytorch/blob/main/SECURITY.md#untrusted-models for more details). In a future release, the default value for `weights_only` will be flipped to `True`. This limits the functions that could be executed during unpickling. Arbitrary objects will no longer be allowed to be loaded via this mode unless they are explicitly allowlisted by the user via `torch.serialization.add_safe_globals`. We recommend you start setting `weights_only=True` for any use case where you don't have full control of the loaded file. Please open an issue on GitHub for any issues related to this experimental feature.\n",
      "  state_dict = torch.load(checkpoint_path, map_location=device)\n"
     ]
    }
   ],
   "source": [
    "checkpoint_path = \"checkpoints/sane_asteroid6_with_rotation_final.pt\"\n",
    "if not os.path.isfile(checkpoint_path):\n",
    "    raise FileNotFoundError(f\"Checkpoint '{checkpoint_path}' nicht gefunden.\")\n",
    "\n",
    "model = SANETokenAutoencoderWithRotation(\n",
    "    token_dim=2,\n",
    "    d_model=64,\n",
    "    nhead=4,\n",
    "    num_layers=2,\n",
    "    dim_feedforward=256,\n",
    "    dropout=0.1,\n",
    "    level_embed_dim=16,\n",
    "    num_rot_classes=6, \n",
    "    rot_hidden=32\n",
    ").to(device)\n",
    "\n",
    "state_dict = torch.load(checkpoint_path, map_location=device)\n",
    "model.load_state_dict(state_dict)\n",
    "model.eval()\n"
   ]
  },
  {
   "cell_type": "code",
   "execution_count": 15,
   "metadata": {},
   "outputs": [],
   "source": [
    "import torch\n",
    "\n",
    "def compute_latent_from_batch(model, tokens, abs_norm, p_norm, levels):\n",
    "    \"\"\"\n",
    "    Führt den reinen ENCODER‐Teil von SANETokenAutoencoderWithRotation aus und gibt\n",
    "    den 64-dimensionalen Latent-Vektor zurück (mean pooling über W).\n",
    "\n",
    "    Inputs (alle bereits auf `device` verschoben):\n",
    "      tokens:   FloatTensor [B, W, 2]\n",
    "      abs_norm: FloatTensor [B, W, 1]\n",
    "      p_norm:   FloatTensor [B, W, 1]\n",
    "      levels:   LongTensor  [B, W]\n",
    "\n",
    "    Output:\n",
    "      z:        FloatTensor [B, 64]  (mean über W)\n",
    "    \"\"\"\n",
    "    # 1) Token‐Embedding\n",
    "    tok_emb = model.token_embed(tokens)   # [B, W, 64]\n",
    "\n",
    "    # 2) Positional‐Embedding\n",
    "    lvl_emb = model.level_emb(levels)     # [B, W, 16]\n",
    "    pos_cat = torch.cat([abs_norm, p_norm, lvl_emb], dim=-1)  # [B, W, 18]\n",
    "    pos_emb = model.pos_proj(pos_cat)     # [B, W, 64]\n",
    "\n",
    "    # 3) Summe aus Token + Position\n",
    "    x = tok_emb + pos_emb                 # [B, W, 64]\n",
    "\n",
    "    # 4) Transformer‐Encoder‐Schichten\n",
    "    for blk in model.encoder_blocks:\n",
    "        x = blk(x)                        # [B, W, 64]\n",
    "\n",
    "    # 5) Mean‐Pooling über W\n",
    "    z = x.mean(dim=1)                     # [B, 64]\n",
    "    return z\n"
   ]
  },
  {
   "cell_type": "code",
   "execution_count": 16,
   "metadata": {},
   "outputs": [
    {
     "name": "stdout",
     "output_type": "stream",
     "text": [
      "Anzahl Fenster für asteroid6__x_180_000_000__checkpoints__final: 125313\n"
     ]
    },
    {
     "name": "stderr",
     "output_type": "stream",
     "text": [
      "/home/roman/Instant-NGP-Sane/src/dataloader.py:85: FutureWarning: You are using `torch.load` with `weights_only=False` (the current default value), which uses the default pickle module implicitly. It is possible to construct malicious pickle data which will execute arbitrary code during unpickling (See https://github.com/pytorch/pytorch/blob/main/SECURITY.md#untrusted-models for more details). In a future release, the default value for `weights_only` will be flipped to `True`. This limits the functions that could be executed during unpickling. Arbitrary objects will no longer be allowed to be loaded via this mode unless they are explicitly allowlisted by the user via `torch.serialization.add_safe_globals`. We recommend you start setting `weights_only=True` for any use case where you don't have full control of the loaded file. Please open an issue on GitHub for any issues related to this experimental feature.\n",
      "  tokens = torch.load(tpath).float()        # [N_i, 2]\n",
      "/home/roman/Instant-NGP-Sane/src/dataloader.py:86: FutureWarning: You are using `torch.load` with `weights_only=False` (the current default value), which uses the default pickle module implicitly. It is possible to construct malicious pickle data which will execute arbitrary code during unpickling (See https://github.com/pytorch/pytorch/blob/main/SECURITY.md#untrusted-models for more details). In a future release, the default value for `weights_only` will be flipped to `True`. This limits the functions that could be executed during unpickling. Arbitrary objects will no longer be allowed to be loaded via this mode unless they are explicitly allowlisted by the user via `torch.serialization.add_safe_globals`. We recommend you start setting `weights_only=True` for any use case where you don't have full control of the loaded file. Please open an issue on GitHub for any issues related to this experimental feature.\n",
      "  positions_raw = torch.load(ppath).float() # [N_i, 3]\n"
     ]
    }
   ],
   "source": [
    "single_model_id = \"asteroid6__x_180_000_000__checkpoints__final\"\n",
    "\n",
    "# Wir initialisieren ein Dataset, das nur genau diese eine model_id lädt\n",
    "dataset_obj = SimpleTokenDataset(\n",
    "    token_dir=\"prepared_objects_first_4_levels\",  # Pfad anpassen\n",
    "    model_ids=[single_model_id],\n",
    "    window_size=256,\n",
    "    augment=False\n",
    ")\n",
    "\n",
    "loader_obj = DataLoader(\n",
    "    dataset_obj,\n",
    "    batch_size=8,\n",
    "    shuffle=False, \n",
    "    num_workers=4,\n",
    "    pin_memory=True\n",
    ")\n",
    "\n",
    "print(f\"Anzahl Fenster für {single_model_id}: {len(dataset_obj)}\")\n"
   ]
  },
  {
   "cell_type": "code",
   "execution_count": 17,
   "metadata": {},
   "outputs": [
    {
     "name": "stderr",
     "output_type": "stream",
     "text": [
      "Latents sammeln für asteroid6__x_180_000_000__checkpoints__final: 100%|██████████| 15665/15665 [00:52<00:00, 296.90Batch/s]"
     ]
    },
    {
     "name": "stdout",
     "output_type": "stream",
     "text": [
      "Shape aller Latents: torch.Size([125313, 64])\n"
     ]
    },
    {
     "name": "stderr",
     "output_type": "stream",
     "text": [
      "\n"
     ]
    }
   ],
   "source": [
    "all_latents = []\n",
    "\n",
    "with torch.no_grad():\n",
    "    for batch in tqdm(loader_obj, desc=f\"Latents sammeln für {single_model_id}\", unit=\"Batch\"):\n",
    "        tokens   = batch[\"tokens\"].to(device)    # [B, W, 2]\n",
    "        abs_norm = batch[\"abs_norm\"].to(device)  # [B, W, 1]\n",
    "        p_norm   = batch[\"p_norm\"].to(device)    # [B, W, 1]\n",
    "        levels   = batch[\"levels\"].to(device)    # [B, W]\n",
    "\n",
    "        z_batch = compute_latent_from_batch(model, tokens, abs_norm, p_norm, levels)  # [B, 64]\n",
    "        all_latents.append(z_batch.cpu()) \n",
    "\n",
    "# Alle Batch‐Latents zu einem Tensor zusammenfügen: [N_windows, 64]\n",
    "all_latents = torch.cat(all_latents, dim=0)  # FloatTensor, shape = [num_windows, 64]\n",
    "print(f\"Shape aller Latents: {all_latents.shape}\")\n"
   ]
  },
  {
   "cell_type": "code",
   "execution_count": 22,
   "metadata": {},
   "outputs": [
    {
     "data": {
      "text/plain": [
       "(125313, 64)"
      ]
     },
     "execution_count": 22,
     "metadata": {},
     "output_type": "execute_result"
    }
   ],
   "source": [
    "# In NumPy‐Array konvertieren\n",
    "latents_np = all_latents.numpy()  # Shape [num_windows, 64]\n",
    "\n",
    "# DataFrame mit 64 Spalten: latent_0 … latent_63\n",
    "columns = [f\"latent_{i}\" for i in range(latents_np.shape[1])]\n",
    "df_latents = pd.DataFrame(latents_np, columns=columns)\n",
    "\n",
    "# Zeige erste 5 Zeilen\n",
    "df_latents.shape\n"
   ]
  },
  {
   "cell_type": "code",
   "execution_count": 21,
   "metadata": {},
   "outputs": [
    {
     "data": {
      "text/plain": [
       "array([-1.0787305 ,  0.86425096,  0.24380201, -0.19859868, -0.63663256,\n",
       "        0.5050171 ,  0.228165  , -0.02080427,  0.95969355, -0.8193425 ,\n",
       "       -1.5879287 ,  1.0069091 , -0.00849972,  1.8441646 ,  0.20862353,\n",
       "       -1.1891987 , -0.23626281, -2.6892693 ,  1.4019604 ,  0.1969252 ,\n",
       "        0.9531218 ,  1.4496051 , -0.692852  ,  1.3389231 ,  0.09656914,\n",
       "        0.55910605,  0.4791876 , -0.5994338 , -1.4496104 , -0.423876  ,\n",
       "        0.15592796, -1.3908839 ,  1.4891913 , -0.70935416,  0.2986975 ,\n",
       "       -0.20084505, -2.055918  ,  0.08354307, -0.64897424, -0.6869845 ,\n",
       "        1.1565031 ,  0.76106966, -1.4867622 ,  1.2699127 ,  0.6818915 ,\n",
       "        2.135164  ,  0.05533303,  1.8550663 , -0.65478253, -1.012297  ,\n",
       "       -0.88713187, -1.7164764 ,  1.4929034 ,  0.01869997, -1.3419614 ,\n",
       "       -0.13675399, -3.0545068 ,  0.556637  ,  0.3505878 ,  1.5049071 ,\n",
       "        0.27042785, -0.85351056,  0.5527474 , -1.6015583 ], dtype=float32)"
      ]
     },
     "execution_count": 21,
     "metadata": {},
     "output_type": "execute_result"
    }
   ],
   "source": [
    "global_latent = df_latents.mean(axis=0)  # Series mit 64 Werten\n",
    "global_latent.values\n"
   ]
  }
 ],
 "metadata": {
  "kernelspec": {
   "display_name": "htcv_env",
   "language": "python",
   "name": "python3"
  },
  "language_info": {
   "codemirror_mode": {
    "name": "ipython",
    "version": 3
   },
   "file_extension": ".py",
   "mimetype": "text/x-python",
   "name": "python",
   "nbconvert_exporter": "python",
   "pygments_lexer": "ipython3",
   "version": "3.11.10"
  }
 },
 "nbformat": 4,
 "nbformat_minor": 2
}
